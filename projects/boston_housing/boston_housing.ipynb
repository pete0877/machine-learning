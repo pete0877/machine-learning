{
 "cells": [
  {
   "cell_type": "markdown",
   "metadata": {},
   "source": [
    "# Machine Learning Engineer Nanodegree\n",
    "## Model Evaluation & Validation\n",
    "## Project: Predicting Boston Housing Prices\n",
    "\n",
    "Welcome to the first project of the Machine Learning Engineer Nanodegree! In this notebook, some template code has already been provided for you, and you will need to implement additional functionality to successfully complete this project. You will not need to modify the included code beyond what is requested. Sections that begin with **'Implementation'** in the header indicate that the following block of code will require additional functionality which you must provide. Instructions will be provided for each section and the specifics of the implementation are marked in the code block with a 'TODO' statement. Please be sure to read the instructions carefully!\n",
    "\n",
    "In addition to implementing code, there will be questions that you must answer which relate to the project and your implementation. Each section where you will answer a question is preceded by a **'Question X'** header. Carefully read each question and provide thorough answers in the following text boxes that begin with **'Answer:'**. Your project submission will be evaluated based on your answers to each of the questions and the implementation you provide.  \n",
    "\n",
    ">**Note:** Code and Markdown cells can be executed using the **Shift + Enter** keyboard shortcut. In addition, Markdown cells can be edited by typically double-clicking the cell to enter edit mode."
   ]
  },
  {
   "cell_type": "markdown",
   "metadata": {},
   "source": [
    "## Getting Started\n",
    "In this project, you will evaluate the performance and predictive power of a model that has been trained and tested on data collected from homes in suburbs of Boston, Massachusetts. A model trained on this data that is seen as a *good fit* could then be used to make certain predictions about a home — in particular, its monetary value. This model would prove to be invaluable for someone like a real estate agent who could make use of such information on a daily basis.\n",
    "\n",
    "The dataset for this project originates from the [UCI Machine Learning Repository](https://archive.ics.uci.edu/ml/datasets/Housing). The Boston housing data was collected in 1978 and each of the 506 entries represent aggregated data about 14 features for homes from various suburbs in Boston, Massachusetts. For the purposes of this project, the following preprocessing steps have been made to the dataset:\n",
    "- 16 data points have an `'MEDV'` value of 50.0. These data points likely contain **missing or censored values** and have been removed.\n",
    "- 1 data point has an `'RM'` value of 8.78. This data point can be considered an **outlier** and has been removed.\n",
    "- The features `'RM'`, `'LSTAT'`, `'PTRATIO'`, and `'MEDV'` are essential. The remaining **non-relevant features** have been excluded.\n",
    "- The feature `'MEDV'` has been **multiplicatively scaled** to account for 35 years of market inflation.\n",
    "\n",
    "Run the code cell below to load the Boston housing dataset, along with a few of the necessary Python libraries required for this project. You will know the dataset loaded successfully if the size of the dataset is reported."
   ]
  },
  {
   "cell_type": "code",
   "execution_count": 29,
   "metadata": {},
   "outputs": [
    {
     "name": "stdout",
     "output_type": "stream",
     "text": [
      "Boston housing dataset has 489 data points with 4 variables each.\n",
      "Top 5 rows:\n",
      "      RM  LSTAT  PTRATIO      MEDV\n",
      "0  6.575   4.98     15.3  504000.0\n",
      "1  6.421   9.14     17.8  453600.0\n",
      "2  7.185   4.03     17.8  728700.0\n",
      "3  6.998   2.94     18.7  701400.0\n",
      "4  7.147   5.33     18.7  760200.0\n"
     ]
    }
   ],
   "source": [
    "# Import libraries necessary for this project\n",
    "import numpy as np\n",
    "import pandas as pd\n",
    "from sklearn.cross_validation import ShuffleSplit\n",
    "\n",
    "# Import supplementary visualizations code visuals.py\n",
    "import visuals as vs\n",
    "\n",
    "# Pretty display for notebooks\n",
    "%matplotlib inline\n",
    "\n",
    "# Load the Boston housing dataset\n",
    "data = pd.read_csv('housing.csv')\n",
    "prices = data['MEDV']\n",
    "features = data.drop('MEDV', axis = 1)\n",
    "\n",
    "RMs = data['RM']\n",
    "LSTATs = data['LSTAT']\n",
    "PTRATIOs = data['PTRATIO']\n",
    "\n",
    "# Success\n",
    "print \"Boston housing dataset has {} data points with {} variables each.\".format(*data.shape)\n",
    "\n",
    "print \"Top 5 rows:\"\n",
    "\n",
    "print data[:5]\n"
   ]
  },
  {
   "cell_type": "markdown",
   "metadata": {},
   "source": [
    "## Data Exploration\n",
    "In this first section of this project, you will make a cursory investigation about the Boston housing data and provide your observations. Familiarizing yourself with the data through an explorative process is a fundamental practice to help you better understand and justify your results.\n",
    "\n",
    "Since the main goal of this project is to construct a working model which has the capability of predicting the value of houses, we will need to separate the dataset into **features** and the **target variable**. The **features**, `'RM'`, `'LSTAT'`, and `'PTRATIO'`, give us quantitative information about each data point. The **target variable**, `'MEDV'`, will be the variable we seek to predict. These are stored in `features` and `prices`, respectively."
   ]
  },
  {
   "cell_type": "markdown",
   "metadata": {},
   "source": [
    "### Implementation: Calculate Statistics\n",
    "For your very first coding implementation, you will calculate descriptive statistics about the Boston housing prices. Since `numpy` has already been imported for you, use this library to perform the necessary calculations. These statistics will be extremely important later on to analyze various prediction results from the constructed model.\n",
    "\n",
    "In the code cell below, you will need to implement the following:\n",
    "- Calculate the minimum, maximum, mean, median, and standard deviation of `'MEDV'`, which is stored in `prices`.\n",
    "  - Store each calculation in their respective variable."
   ]
  },
  {
   "cell_type": "code",
   "execution_count": 30,
   "metadata": {},
   "outputs": [
    {
     "name": "stdout",
     "output_type": "stream",
     "text": [
      "Statistics for Boston housing dataset:\n",
      "\n",
      "Minimum price: $105,000.00\n",
      "Maximum price: $1,024,800.00\n",
      "Mean price: $454,342.94\n",
      "Median price $438,900.00\n",
      "Standard deviation of prices: $165,171.13\n",
      "______________________________\n",
      "other stats:\n",
      "RMs:\n",
      "\tMean / Median: 6.24 / 6.18\n",
      "\tMin - Max (Std.Dev): 3.56 - 8.40 (0.64)\n",
      "LSTATs:\n",
      "\tMean / Median: 12.94 / 11.69\n",
      "\tMin - Max (Std.Dev): 1.98 - 37.97 (7.07)\n",
      "PTRATIOs:\n",
      "\tMean / Median: 18.52 / 19.10\n",
      "\tMin - Max (Std.Dev): 12.60 - 22.00 (2.11)\n"
     ]
    }
   ],
   "source": [
    "# TODO: Minimum price of the data\n",
    "minimum_price = np.min(prices.as_matrix())\n",
    "\n",
    "# TODO: Maximum price of the data\n",
    "maximum_price = np.max(prices.as_matrix())\n",
    "\n",
    "# TODO: Mean price of the data\n",
    "mean_price = np.mean(prices.as_matrix())\n",
    "\n",
    "# TODO: Median price of the data\n",
    "median_price = np.median(prices.as_matrix())\n",
    "\n",
    "# TODO: Standard deviation of prices of the data\n",
    "std_price = np.std(prices.as_matrix())\n",
    "\n",
    "# Show the calculated statistics\n",
    "print \"Statistics for Boston housing dataset:\\n\"\n",
    "print \"Minimum price: ${:,.2f}\".format(minimum_price)\n",
    "print \"Maximum price: ${:,.2f}\".format(maximum_price)\n",
    "print \"Mean price: ${:,.2f}\".format(mean_price)\n",
    "print \"Median price ${:,.2f}\".format(median_price)\n",
    "print \"Standard deviation of prices: ${:,.2f}\".format(std_price)\n",
    "\n",
    "print \"______________________________\"\n",
    "print \"other stats:\"\n",
    "print \"RMs:\"\n",
    "print \"\\tMean / Median: {:,.2f} / {:,.2f}\".format(np.mean(RMs.as_matrix()), np.median(RMs.as_matrix()))\n",
    "print \"\\tMin - Max (Std.Dev): {:,.2f} - {:,.2f} ({:,.2f})\".format(np.min(RMs.as_matrix()), np.max(RMs.as_matrix()), np.std(RMs.as_matrix()),)\n",
    "print \"LSTATs:\"\n",
    "print \"\\tMean / Median: {:,.2f} / {:,.2f}\".format(np.mean(LSTATs.as_matrix()), np.median(LSTATs.as_matrix()))\n",
    "print \"\\tMin - Max (Std.Dev): {:,.2f} - {:,.2f} ({:,.2f})\".format(np.min(LSTATs.as_matrix()), np.max(LSTATs.as_matrix()), np.std(LSTATs.as_matrix()),)\n",
    "print \"PTRATIOs:\"\n",
    "print \"\\tMean / Median: {:,.2f} / {:,.2f}\".format(np.mean(PTRATIOs.as_matrix()), np.median(PTRATIOs.as_matrix()))\n",
    "print \"\\tMin - Max (Std.Dev): {:,.2f} - {:,.2f} ({:,.2f})\".format(np.min(PTRATIOs.as_matrix()), np.max(PTRATIOs.as_matrix()), np.std(PTRATIOs.as_matrix()),)\n"
   ]
  },
  {
   "cell_type": "markdown",
   "metadata": {},
   "source": [
    "### Question 1 - Feature Observation\n",
    "As a reminder, we are using three features from the Boston housing dataset: `'RM'`, `'LSTAT'`, and `'PTRATIO'`. For each data point (neighborhood):\n",
    "- `'RM'` is the average number of rooms among homes in the neighborhood.\n",
    "- `'LSTAT'` is the percentage of homeowners in the neighborhood considered \"lower class\" (working poor).\n",
    "- `'PTRATIO'` is the ratio of students to teachers in primary and secondary schools in the neighborhood.\n",
    "\n",
    "\n",
    "** Using your intuition, for each of the three features above, do you think that an increase in the value of that feature would lead to an **increase** in the value of `'MEDV'` or a **decrease** in the value of `'MEDV'`? Justify your answer for each.**\n",
    "\n",
    "**Hint:** This problem can phrased using examples like below.  \n",
    "* Would you expect a home that has an `'RM'` value(number of rooms) of 6 be worth more or less than a home that has an `'RM'` value of 7?\n",
    "* Would you expect a neighborhood that has an `'LSTAT'` value(percent of lower class workers) of 15 have home prices be worth more or less than a neighborhood that has an `'LSTAT'` value of 20?\n",
    "* Would you expect a neighborhood that has an `'PTRATIO'` value(ratio of students to teachers) of 10 have home prices be worth more or less than a neighborhood that has an `'PTRATIO'` value of 15?"
   ]
  },
  {
   "cell_type": "markdown",
   "metadata": {},
   "source": [
    "**Answer: **\n",
    "\n",
    "> Would you expect a home that has an 'RM' value(number of rooms) of 6 be worth more or less than a home that has an 'RM' value of 7?\n",
    "\n",
    "**Less**. House with 6 rooms will be worth less than house with 7 rooms. If I have 6 rooms in my house, and two of those rooms are already occupied by my family then I only have 4 more rooms where I can put additional family that's visiting. If I have 7 rooms in my house then when I have 2 rooms already occupied, I'll have 5 rooms where I can put my family (giving me more options and feeling better about my economic status when my family comes to visit). Hence people like to have more rooms. If people have lots of 'stuff', having more rooms allows them to more easily to fit everything in their house. I'm not sure how else I can justify that having more rooms is better. Yes, there is also the total number of square feet in the house that COULD be larger but this is not a variable that was given. I could have a house with 4 small rooms which has less overall floor square footage than a house with 3 rooms (typically not the case). In general when people want to assess the size of the house they would look at combination of square footage plus how many rooms of various kinds there are. The simple data model we have here only tells us room count so the best we can do is say: yes, most human beings would consider having more rooms be better and more valuable than fewer rooms (unless they expect high costs of cleaning more rooms :) )\n",
    "\n",
    "> Would you expect a neighborhood that has an 'LSTAT' value(percent of lower class workers) of 15 have home prices be worth more or less than a neighborhood that has an 'LSTAT' value of 20?\n",
    "\n",
    "**More**. Smaller percent of lower-class home ownsers will likely result in higher house price unless market is somehow skewed by say having very few homeowners and rather large rental market (so if poor homeowners are sparse compared to overall wealthy renters). But this data set is too simple to suggest we have to worry about that. \n",
    "\n",
    "> Would you expect a neighborhood that has an 'PTRATIO' value(ratio of students to teachers) of 10 have home prices be worth more or less than a neighborhood that has an 'PTRATIO' value of 15?\n",
    "\n",
    "\n",
    "**More**. Fewer students per teacher is correlated with higher school budgets and better education hence higher neiborhood prices. "
   ]
  },
  {
   "cell_type": "markdown",
   "metadata": {},
   "source": [
    "----\n",
    "\n",
    "## Developing a Model\n",
    "In this second section of the project, you will develop the tools and techniques necessary for a model to make a prediction. Being able to make accurate evaluations of each model's performance through the use of these tools and techniques helps to greatly reinforce the confidence in your predictions."
   ]
  },
  {
   "cell_type": "markdown",
   "metadata": {},
   "source": [
    "### Implementation: Define a Performance Metric\n",
    "It is difficult to measure the quality of a given model without quantifying its performance over training and testing. This is typically done using some type of performance metric, whether it is through calculating some type of error, the goodness of fit, or some other useful measurement. For this project, you will be calculating the [*coefficient of determination*](http://stattrek.com/statistics/dictionary.aspx?definition=coefficient_of_determination), R<sup>2</sup>, to quantify your model's performance. The coefficient of determination for a model is a useful statistic in regression analysis, as it often describes how \"good\" that model is at making predictions. \n",
    "\n",
    "The values for R<sup>2</sup> range from 0 to 1, which captures the percentage of squared correlation between the predicted and actual values of the **target variable**. A model with an R<sup>2</sup> of 0 is no better than a model that always predicts the *mean* of the target variable, whereas a model with an R<sup>2</sup> of 1 perfectly predicts the target variable. Any value between 0 and 1 indicates what percentage of the target variable, using this model, can be explained by the **features**. _A model can be given a negative R<sup>2</sup> as well, which indicates that the model is **arbitrarily worse** than one that always predicts the mean of the target variable._\n",
    "\n",
    "For the `performance_metric` function in the code cell below, you will need to implement the following:\n",
    "- Use `r2_score` from `sklearn.metrics` to perform a performance calculation between `y_true` and `y_predict`.\n",
    "- Assign the performance score to the `score` variable."
   ]
  },
  {
   "cell_type": "code",
   "execution_count": 31,
   "metadata": {},
   "outputs": [],
   "source": [
    "from sklearn.metrics import r2_score\n",
    "\n",
    "def performance_metric(y_true, y_predict):\n",
    "    \"\"\" Calculates and returns the performance score between \n",
    "        true and predicted values based on the metric chosen. \"\"\"\n",
    "    \n",
    "    # TODO: Calculate the performance score between 'y_true' and 'y_predict'\n",
    "    score = r2_score(y_true, y_predict)\n",
    "    \n",
    "    # Return the score\n",
    "    return score"
   ]
  },
  {
   "cell_type": "markdown",
   "metadata": {},
   "source": [
    "### Question 2 - Goodness of Fit\n",
    "Assume that a dataset contains five data points and a model made the following predictions for the target variable:\n",
    "\n",
    "| True Value | Prediction |\n",
    "| :-------------: | :--------: |\n",
    "| 3.0 | 2.5 |\n",
    "| -0.5 | 0.0 |\n",
    "| 2.0 | 2.1 |\n",
    "| 7.0 | 7.8 |\n",
    "| 4.2 | 5.3 |\n",
    "\n",
    "Run the code cell below to use the `performance_metric` function and calculate this model's coefficient of determination."
   ]
  },
  {
   "cell_type": "code",
   "execution_count": 32,
   "metadata": {},
   "outputs": [
    {
     "name": "stdout",
     "output_type": "stream",
     "text": [
      "Model has a coefficient of determination, R^2, of 0.923.\n"
     ]
    }
   ],
   "source": [
    "# Calculate the performance of this model\n",
    "score = performance_metric([3, -0.5, 2, 7, 4.2], [2.5, 0.0, 2.1, 7.8, 5.3])\n",
    "print \"Model has a coefficient of determination, R^2, of {:.3f}.\".format(score)"
   ]
  },
  {
   "cell_type": "markdown",
   "metadata": {},
   "source": [
    "* Would you consider this model to have successfully captured the variation of the target variable? \n",
    "* Why or why not?\n",
    "\n",
    "** Hint: **  The R2 score is the proportion of the variance in the dependent variable that is predictable from the independent variable. In other words:\n",
    "* R2 score of 0 means that the dependent variable cannot be predicted from the independent variable.\n",
    "* R2 score of 1 means the dependent variable can be predicted from the independent variable.\n",
    "* R2 score between 0 and 1 indicates the extent to which the dependent variable is predictable. \n",
    "* R2 score of 0.40 means that 40 percent of the variance in Y is predictable from X."
   ]
  },
  {
   "cell_type": "markdown",
   "metadata": {},
   "source": [
    "**Answer:**\n",
    "I would say yes, the prediction rate of 0.923 (92.3%) is decent. \n",
    "The value of 0.0 would mean that our predictions are only as good as taking the average of all train y-values and saying that all our predicted values will be of that average value too (the simplest statistical approach, you could say). The R^2 of 1.0 on the other hand would mean that we had no errors in predictions - all our predicted values for the test set were spot on (so mean-square-error was 0.0). So our value of 0.923 is clearly much closer to being able to predict the exact values than just guessing based on the average. We are 92.3% way perfect in other words. In statistics the gold standard that everybody seems to use is 95% but other rates are used (seen often 90%, 99%).\n"
   ]
  },
  {
   "cell_type": "markdown",
   "metadata": {},
   "source": [
    "### Implementation: Shuffle and Split Data\n",
    "Your next implementation requires that you take the Boston housing dataset and split the data into training and testing subsets. Typically, the data is also shuffled into a random order when creating the training and testing subsets to remove any bias in the ordering of the dataset.\n",
    "\n",
    "For the code cell below, you will need to implement the following:\n",
    "- Use `train_test_split` from `sklearn.cross_validation` to shuffle and split the `features` and `prices` data into training and testing sets.\n",
    "  - Split the data into 80% training and 20% testing.\n",
    "  - Set the `random_state` for `train_test_split` to a value of your choice. This ensures results are consistent.\n",
    "- Assign the train and testing splits to `X_train`, `X_test`, `y_train`, and `y_test`."
   ]
  },
  {
   "cell_type": "code",
   "execution_count": 33,
   "metadata": {},
   "outputs": [
    {
     "name": "stdout",
     "output_type": "stream",
     "text": [
      "Training and testing split was successful.\n",
      "X_train size 391\n",
      "X_test size 98\n",
      "y_train size 391\n",
      "y_test size 98\n"
     ]
    }
   ],
   "source": [
    "# TODO: Import 'train_test_split'\n",
    "from sklearn.model_selection import train_test_split\n",
    "\n",
    "# TODO: Shuffle and split the data into training and testing subsets\n",
    "X_train, X_test, y_train, y_test = train_test_split(features, prices, test_size=0.20, random_state=77)\n",
    "\n",
    "# Success\n",
    "print \"Training and testing split was successful.\"\n",
    "print \"X_train size %s\" % len(X_train)\n",
    "print \"X_test size %s\" % len(X_test)\n",
    "print \"y_train size %s\" % len(y_train)\n",
    "print \"y_test size %s\" % len(y_test)"
   ]
  },
  {
   "cell_type": "markdown",
   "metadata": {},
   "source": [
    "### Question 3 - Training and Testing\n",
    "\n",
    "* What is the benefit to splitting a dataset into some ratio of training and testing subsets for a learning algorithm?\n",
    "\n",
    "**Hint:** Think about how overfitting or underfitting is contingent upon how splits on data is done."
   ]
  },
  {
   "cell_type": "markdown",
   "metadata": {},
   "source": [
    "**Answer: **\n",
    "\n",
    "Benefit of splitting the overall data set into seperate training and testing subsets is that we don't influence the final evaluation of the train / optimized model with the data that was used to actually train / optimize that model. This is the golden rule in Machine Learning the coursework talks about. If we trained the model on the whole set and then tested the model on a subset of that whole set as well, it would give the model advantage of being told what it will be evaluated against. It would be in a sense like giving a student some of the answers or hints prior to the student taking a test. Even if those answers or hints do not seem meaningful in the grand scheme of things, they would influence the student's answers and give them some sort of an edge and advantage.\n",
    "\n",
    "By allowing the model to be trained in part on the test data, we would skew the model to be a bit more overfit to that test data.\n",
    "\n",
    "The more data we can get to use for training while still having enough data for independant testing round, the better. That's why k-fold splits for cross-validation are done. In general it will require more data to train the model than to test it. If the training data set was smaller than the testing one then the training would likely underfit. Imagine if we had split of 0.05 for training set and 0.95 for the testing set. We would be essentially assuming that 5% of the data is perfect representation for the remaining 95% which would likely be false. \n",
    "\n",
    "I don't know why 80/20 split has been used in this course - maybe just as example. I'm sure there is some heavy mathematical explnation for why that's a good ratio for data of unknown or average variance. I would assume that for data with lower than average variance having larger test set would be OK as it would only help us be more confident about the model and adding more data points to the training set perhaps wouldn't incease its accuracy. "
   ]
  },
  {
   "cell_type": "markdown",
   "metadata": {},
   "source": [
    "----\n",
    "\n",
    "## Analyzing Model Performance\n",
    "In this third section of the project, you'll take a look at several models' learning and testing performances on various subsets of training data. Additionally, you'll investigate one particular algorithm with an increasing `'max_depth'` parameter on the full training set to observe how model complexity affects performance. Graphing your model's performance based on varying criteria can be beneficial in the analysis process, such as visualizing behavior that may not have been apparent from the results alone."
   ]
  },
  {
   "cell_type": "markdown",
   "metadata": {},
   "source": [
    "### Learning Curves\n",
    "The following code cell produces four graphs for a decision tree model with different maximum depths. Each graph visualizes the learning curves of the model for both training and testing as the size of the training set is increased. Note that the shaded region of a learning curve denotes the uncertainty of that curve (measured as the standard deviation). The model is scored on both the training and testing sets using R<sup>2</sup>, the coefficient of determination.  \n",
    "\n",
    "Run the code cell below and use these graphs to answer the following question."
   ]
  },
  {
   "cell_type": "code",
   "execution_count": 34,
   "metadata": {
    "scrolled": false
   },
   "outputs": [
    {
     "data": {
      "image/png": "[encoded data removed]",
      "text/plain": [
       "<Figure size 720x504 with 4 Axes>"
      ]
     },
     "metadata": {},
     "output_type": "display_data"
    }
   ],
   "source": [
    "# Produce learning curves for varying training set sizes and maximum depths\n",
    "vs.ModelLearning(features, prices)"
   ]
  },
  {
   "cell_type": "markdown",
   "metadata": {},
   "source": [
    "### Question 4 - Learning the Data\n",
    "* Choose one of the graphs above and state the maximum depth for the model. \n",
    "* What happens to the score of the training curve as more training points are added? What about the testing curve? \n",
    "* Would having more training points benefit the model? \n",
    "\n",
    "**Hint:** Are the learning curves converging to particular scores? Generally speaking, the more data you have, the better. But if your training and testing curves are converging with a score above your benchmark threshold, would this be necessary?\n",
    "Think about the pros and cons of adding more training points based on if the training and testing curves are converging."
   ]
  },
  {
   "cell_type": "markdown",
   "metadata": {},
   "source": [
    "**Answer: **\n",
    "\n",
    "> Choose one of the graphs above and state the maximum depth for the model.\n",
    "\n",
    "I assume we are supposed to choose graph / model that looks the best. In that case, I would pick one with max_depth = 3. \n",
    "\n",
    "> What happens to the score of the training curve as more training points are added? What about the testing curve?\n",
    "\n",
    "As more data is added, the training and testing curves converge fairly close to each other (testing stabilizes at around 0.75 and training at around 0.80 it seems). \n",
    "\n",
    "> Would having more training points benefit the model?\n",
    "\n",
    "Adding more data does not seem to benefit this model. Last 3 learning curve points (with 300, 350 and 400 data points) produce almost idential results. "
   ]
  },
  {
   "cell_type": "markdown",
   "metadata": {},
   "source": [
    "### Complexity Curves\n",
    "The following code cell produces a graph for a decision tree model that has been trained and validated on the training data using different maximum depths. The graph produces two complexity curves — one for training and one for validation. Similar to the **learning curves**, the shaded regions of both the complexity curves denote the uncertainty in those curves, and the model is scored on both the training and validation sets using the `performance_metric` function.  \n",
    "\n",
    "** Run the code cell below and use this graph to answer the following two questions Q5 and Q6. **"
   ]
  },
  {
   "cell_type": "code",
   "execution_count": 35,
   "metadata": {},
   "outputs": [
    {
     "data": {
      "image/png": "[encoded data removed]",
      "text/plain": [
       "<Figure size 504x360 with 1 Axes>"
      ]
     },
     "metadata": {},
     "output_type": "display_data"
    }
   ],
   "source": [
    "vs.ModelComplexity(X_train, y_train)"
   ]
  },
  {
   "cell_type": "markdown",
   "metadata": {},
   "source": [
    "### Question 5 - Bias-Variance Tradeoff\n",
    "* When the model is trained with a maximum depth of 1, does the model suffer from high bias or from high variance? \n",
    "* How about when the model is trained with a maximum depth of 10? What visual cues in the graph justify your conclusions?\n",
    "\n",
    "**Hint:** High bias is a sign of underfitting(model is not complex enough to pick up the nuances in the data) and high variance is a sign of overfitting(model is by-hearting the data and cannot generalize well). Think about which model(depth 1 or 10) aligns with which part of the tradeoff."
   ]
  },
  {
   "cell_type": "markdown",
   "metadata": {},
   "source": [
    "**Answer: **\n",
    "\n",
    "> When the model is trained with a maximum depth of 1, does the model suffer from high bias or from high variance?\n",
    "\n",
    "When the model is trained with a maximum depth of 1 it suffers from high bias (it is underfit).\n",
    "\n",
    "> How about when the model is trained with a maximum depth of 10?\n",
    "\n",
    "When the model is trained with a maximum depth of 10 it suffers from high variance (it is overfit).\n",
    "\n",
    "> What visual cues in the graph justify your conclusions?\n",
    "\n",
    "I'm drawing my conclusions from the overall shape of the training set line. With depth of 1 the model is unable to do a good job predicting the training set (or testing set for that matter). As the max depth of the decision tree increases, the model becomes able to predict training set better and better (with diminishing returns toward the higher number of course). So on the very right, with depth 10 the model is clearly fitting the training set very well but it does a poor job on the testing test (hence it is over-fit).\n",
    "\n"
   ]
  },
  {
   "cell_type": "markdown",
   "metadata": {},
   "source": [
    "### Question 6 - Best-Guess Optimal Model\n",
    "* Which maximum depth do you think results in a model that best generalizes to unseen data? \n",
    "* What intuition lead you to this answer?\n",
    "\n",
    "** Hint: ** Look at the graph above Question 5 and see where the validation scores lie for the various depths that have been assigned to the model. Does it get better with increased depth? At what point do we get our best validation score without overcomplicating our model? And remember, Occams Razor states \"Among competing hypotheses, the one with the fewest assumptions should be selected.\""
   ]
  },
  {
   "cell_type": "markdown",
   "metadata": {},
   "source": [
    "**Answer: **\n",
    "\n",
    "> Which maximum depth do you think results in a model that best generalizes to unseen data?\n",
    "\n",
    "I am going to say depth of 4. But I could go with 5 too :)\n",
    "\n",
    "> What intuition lead you to this answer?\n",
    "\n",
    "The two lines are still fairly close together at that point and the validation score seemed to have reached more or less its maximum. Also, unlike depth of 5, the validation line has lower variance / uncertainty which seems like something we should keep to low (this isn't really explained during this course though)"
   ]
  },
  {
   "cell_type": "markdown",
   "metadata": {},
   "source": [
    "-----\n",
    "\n",
    "## Evaluating Model Performance\n",
    "In this final section of the project, you will construct a model and make a prediction on the client's feature set using an optimized model from `fit_model`."
   ]
  },
  {
   "cell_type": "markdown",
   "metadata": {},
   "source": [
    "### Question 7 - Grid Search\n",
    "* What is the grid search technique?\n",
    "* How it can be applied to optimize a learning algorithm?\n",
    "\n",
    "** Hint: ** When explaining the Grid Search technique, be sure to touch upon why it is used,  what the 'grid' entails and what the end goal of this method is. To solidify your answer, you can also give an example of a parameter in a model that can be optimized using this approach."
   ]
  },
  {
   "cell_type": "markdown",
   "metadata": {},
   "source": [
    "**Answer: **\n",
    "\n",
    "> What is the grid search technique? How it can be applied to optimize a learning algorithm?\n",
    "\n",
    "Grid Search is used to train and evaluate a model using permutations of hyper-parameters. Assuming there are say only 2 paramters to optimize on and we know what values we would like to try the model with, a two-dimensional grid is created where the columns each correspond to a value of one of the params and rows each correspond to a value of the other parameter. The Grid Search funtion then runs the model on all permuatations of the two parmater values and calculates the score for each one (e.g. maybe R2 score if that's what's configured). Then the highest score is chosen among all the grid cells and that's the 'best fit'."
   ]
  },
  {
   "cell_type": "markdown",
   "metadata": {},
   "source": [
    "### Question 8 - Cross-Validation\n",
    "\n",
    "* What is the k-fold cross-validation training technique? \n",
    "\n",
    "* What benefit does this technique provide for grid search when optimizing a model?\n",
    "\n",
    "**Hint:** When explaining the k-fold cross validation technique, be sure to touch upon what 'k' is, how the dataset is split into different parts for training and testing and the number of times it is run based on the 'k' value.\n",
    "\n",
    "When thinking about how k-fold cross validation helps grid search, think about the main drawbacks of grid search which are hinged upon **using a particular subset of data for training or testing** and how k-fold cv could help alleviate that. You can refer to the [docs](http://scikit-learn.org/stable/modules/cross_validation.html#cross-validation) for your answer."
   ]
  },
  {
   "cell_type": "markdown",
   "metadata": {},
   "source": [
    "**Answer: **\n",
    "\n",
    "> What is the k-fold cross-validation training technique?\n",
    "\n",
    "No matter what happens, we have to have two seperate sets of data:\n",
    "* data we train the model on, optimize params on, etc - this is called the *training set*\n",
    "* data we will test the final model on - this is called the *test set*\n",
    "\n",
    "If you just wanted to train your model once and see how it performs against the final test set, you would not need to do anything else. However, when we optimize models we often have to try out different parameters to see how the model might perform. We cannot make these kinds of optimization decisions based on the final test set as that would break the golden rule in machine learning of never using your test data to train your model. \n",
    "\n",
    "So instead the *training set* is further split off into two parts:\n",
    "* cross-validation training set\n",
    "* cross-validation test set\n",
    "\n",
    "Now the model can be trained on the *cross-validation training set* (which is different from the *test set* mentioned above) and evaluated iteratively on the *cross-validation test set* as parameters are tweaked. \n",
    "\n",
    "Now, the k-fold technique is a way to take the original *training set* and rather than just splitting it into the *cross-validation training set* and *cross-validation test set* once (in say 80%/20% ratio), the process is done k-times. Each time different of \"20%\" folds is used as the *cross-validation test set*.\n",
    "\n",
    "> What benefit does this technique provide for grid search when optimizing a model?\n",
    "\n",
    "In this coursework I haven't seen 'k' be used as one of the paramters that Grid Search tries to optimize on (and that would be a bit wonky since we would be asking the method:  how can we best design the test vs train set so that our results look best. So I assume that's not a technique commonly used. Instead k-fold could be used to re-rerun grid search k-times using different fold for the *cross-validation test set* data. If we get consistantly the same grid cell being the best fit of params, as we rotate through the k-folds, we gain confidence that the grid cell is our best model and then we can only hope it does well against the top-level *test set*. "
   ]
  },
  {
   "cell_type": "markdown",
   "metadata": {},
   "source": [
    "### Implementation: Fitting a Model\n",
    "Your final implementation requires that you bring everything together and train a model using the **decision tree algorithm**. To ensure that you are producing an optimized model, you will train the model using the grid search technique to optimize the `'max_depth'` parameter for the decision tree. The `'max_depth'` parameter can be thought of as how many questions the decision tree algorithm is allowed to ask about the data before making a prediction. Decision trees are part of a class of algorithms called *supervised learning algorithms*.\n",
    "\n",
    "In addition, you will find your implementation is using `ShuffleSplit()` for an alternative form of cross-validation (see the `'cv_sets'` variable). While it is not the K-Fold cross-validation technique you describe in **Question 8**, this type of cross-validation technique is just as useful!. The `ShuffleSplit()` implementation below will create 10 (`'n_splits'`) shuffled sets, and for each shuffle, 20% (`'test_size'`) of the data will be used as the *validation set*. While you're working on your implementation, think about the contrasts and similarities it has to the K-fold cross-validation technique.\n",
    "\n",
    "Please note that ShuffleSplit has different parameters in scikit-learn versions 0.17 and 0.18.\n",
    "For the `fit_model` function in the code cell below, you will need to implement the following:\n",
    "- Use [`DecisionTreeRegressor`](http://scikit-learn.org/stable/modules/generated/sklearn.tree.DecisionTreeRegressor.html) from `sklearn.tree` to create a decision tree regressor object.\n",
    "  - Assign this object to the `'regressor'` variable.\n",
    "- Create a dictionary for `'max_depth'` with the values from 1 to 10, and assign this to the `'params'` variable.\n",
    "- Use [`make_scorer`](http://scikit-learn.org/stable/modules/generated/sklearn.metrics.make_scorer.html) from `sklearn.metrics` to create a scoring function object.\n",
    "  - Pass the `performance_metric` function as a parameter to the object.\n",
    "  - Assign this scoring function to the `'scoring_fnc'` variable.\n",
    "- Use [`GridSearchCV`](http://scikit-learn.org/stable/modules/generated/sklearn.model_selection.GridSearchCV.html) from `sklearn.grid_search` to create a grid search object.\n",
    "  - Pass the variables `'regressor'`, `'params'`, `'scoring_fnc'`, and `'cv_sets'` as parameters to the object. \n",
    "  - Assign the `GridSearchCV` object to the `'grid'` variable."
   ]
  },
  {
   "cell_type": "code",
   "execution_count": 36,
   "metadata": {},
   "outputs": [],
   "source": [
    "# TODO: Import 'make_scorer', 'DecisionTreeRegressor', and 'GridSearchCV'\n",
    "from sklearn.tree import DecisionTreeRegressor\n",
    "from sklearn.metrics import make_scorer\n",
    "from sklearn.model_selection import GridSearchCV\n",
    "\n",
    "\n",
    "def fit_model(X, y):\n",
    "    \"\"\" Performs grid search over the 'max_depth' parameter for a \n",
    "        decision tree regressor trained on the input data [X, y]. \"\"\"\n",
    "    \n",
    "    # Create cross-validation sets from the training data\n",
    "    # sklearn version 0.18: ShuffleSplit(n_splits=10, test_size=0.1, train_size=None, random_state=None)\n",
    "    # sklearn versiin 0.17: ShuffleSplit(n, n_iter=10, test_size=0.1, train_size=None, random_state=None)\n",
    "    cv_sets = ShuffleSplit(X.shape[0], n_iter = 10, test_size = 0.20, random_state = 0)\n",
    "\n",
    "    # TODO: Create a decision tree regressor object\n",
    "    regressor = DecisionTreeRegressor()\n",
    "\n",
    "    # TODO: Create a dictionary for the parameter 'max_depth' with a range from 1 to 10\n",
    "    params = {'max_depth': range(1, 11)}    \n",
    "\n",
    "    # TODO: Transform 'performance_metric' into a scoring function using 'make_scorer' \n",
    "    scoring_fnc = make_scorer(performance_metric)\n",
    "\n",
    "    # TODO: Create the grid search cv object --> GridSearchCV()\n",
    "    # Make sure to include the right parameters in the object:\n",
    "    # (estimator, param_grid, scoring, cv) which have values 'regressor', 'params', 'scoring_fnc', and 'cv_sets' respectively.\n",
    "    grid = GridSearchCV(estimator=regressor, param_grid=params, scoring=scoring_fnc, cv=cv_sets)\n",
    "\n",
    "    # Fit the grid search object to the data to compute the optimal model\n",
    "    grid = grid.fit(X, y)\n",
    "\n",
    "    # Return the optimal model after fitting the data\n",
    "    return grid.best_estimator_"
   ]
  },
  {
   "cell_type": "markdown",
   "metadata": {},
   "source": [
    "### Making Predictions\n",
    "Once a model has been trained on a given set of data, it can now be used to make predictions on new sets of input data. In the case of a *decision tree regressor*, the model has learned *what the best questions to ask about the input data are*, and can respond with a prediction for the **target variable**. You can use these predictions to gain information about data where the value of the target variable is unknown — such as data the model was not trained on."
   ]
  },
  {
   "cell_type": "markdown",
   "metadata": {},
   "source": [
    "### Question 9 - Optimal Model\n",
    "\n",
    "* What maximum depth does the optimal model have? How does this result compare to your guess in **Question 6**?  \n",
    "\n",
    "Run the code block below to fit the decision tree regressor to the training data and produce an optimal model."
   ]
  },
  {
   "cell_type": "code",
   "execution_count": 38,
   "metadata": {
    "scrolled": true
   },
   "outputs": [
    {
     "name": "stdout",
     "output_type": "stream",
     "text": [
      "Parameter 'max_depth' is 5 for the optimal model.\n"
     ]
    }
   ],
   "source": [
    "# Fit the training data to the model using grid search\n",
    "reg = fit_model(X_train, y_train)\n",
    "\n",
    "# Produce the value for 'max_depth'\n",
    "print \"Parameter 'max_depth' is {} for the optimal model.\".format(reg.get_params()['max_depth'])"
   ]
  },
  {
   "cell_type": "markdown",
   "metadata": {},
   "source": [
    "** Hint: ** The answer comes from the output of the code snipped above.\n",
    "\n",
    "**Answer: **\n",
    "\n",
    "> What maximum depth does the optimal model have? \n",
    "\n",
    "Above code says depth of 5 is optimal most of the time. However, when I re-run it few times, occasionally I'll get optimal depth of 4. \n",
    "\n",
    "> How does this result compare to your guess in Question 6?\n",
    "\n",
    "In my answer above, I said \"I am going to say depth of 4. But I could go with 5 too :)\". The implementation of the model confirms this (although 5 ends up being returned by the code more often than 4).\n",
    "\n",
    "There is a little bit of confusion here. The two data points are very close together. Depth of 5 seems to offer the actual local maximum score - by a hair / pixel that's hard to spot as values are not labeled on the graph above. But depth 4 point offers smaller variance - that part is not explained above or during the coursework videos. I assumed it would be better to have smaller variance compared to just a hair better score on that graph. \n",
    "\n"
   ]
  },
  {
   "cell_type": "markdown",
   "metadata": {},
   "source": [
    "### Question 10 - Predicting Selling Prices\n",
    "Imagine that you were a real estate agent in the Boston area looking to use this model to help price homes owned by your clients that they wish to sell. You have collected the following information from three of your clients:\n",
    "\n",
    "| Feature | Client 1 | Client 2 | Client 3 |\n",
    "| :---: | :---: | :---: | :---: |\n",
    "| Total number of rooms in home | 5 rooms | 4 rooms | 8 rooms |\n",
    "| Neighborhood poverty level (as %) | 17% | 32% | 3% |\n",
    "| Student-teacher ratio of nearby schools | 15-to-1 | 22-to-1 | 12-to-1 |\n",
    "\n",
    "* What price would you recommend each client sell his/her home at? \n",
    "* Do these prices seem reasonable given the values for the respective features? \n",
    "\n",
    "**Hint:** Use the statistics you calculated in the **Data Exploration** section to help justify your response.  Of the three clients, client 3 has has the biggest house, in the best public school neighborhood with the lowest poverty level; while client 2 has the smallest house, in a neighborhood with a relatively high poverty rate and not the best public schools.\n",
    "\n",
    "Run the code block below to have your optimized model make predictions for each client's home."
   ]
  },
  {
   "cell_type": "code",
   "execution_count": 39,
   "metadata": {},
   "outputs": [
    {
     "name": "stdout",
     "output_type": "stream",
     "text": [
      "Predicted selling price for Client 1's home: $420,286.36\n",
      "Predicted selling price for Client 2's home: $225,697.50\n",
      "Predicted selling price for Client 3's home: $896,962.50\n"
     ]
    }
   ],
   "source": [
    "# Produce a matrix for client data\n",
    "client_data = [[5, 17, 15], # Client 1\n",
    "               [4, 32, 22], # Client 2\n",
    "               [8, 3, 12]]  # Client 3\n",
    "\n",
    "# Show predictions\n",
    "for i, price in enumerate(reg.predict(client_data)):\n",
    "    print \"Predicted selling price for Client {}'s home: ${:,.2f}\".format(i+1, price)"
   ]
  },
  {
   "cell_type": "markdown",
   "metadata": {},
   "source": [
    "**Answer: **\n",
    "\n",
    "> What price would you recommend each client sell his/her home at?\n",
    "\n",
    "* Predicted selling price for Client 1's home: $420,286.36\n",
    "\n",
    "* Predicted selling price for Client 2's home: $225,697.50\n",
    "\n",
    "* Predicted selling price for Client 3's home: $896,962.50\n",
    "\n",
    "> Do these prices seem reasonable given the values for the respective features? (Discussion is made for each of the three predictions as to whether these prices are reasonable given the data and the earlier calculated descriptive statistics).\n",
    "\n",
    "Above we saw following stats in the overall data set:\n",
    "```\n",
    "Minimum price: $105,000.00\n",
    "Maximum price: $1,024,800.00\n",
    "Mean price: $454,342.94\n",
    "Median price $438,900.00\n",
    "Standard deviation of prices: $165,171.13\n",
    "```\n",
    "I also computed few other stats to help to answer the question below.\n",
    "```\n",
    "______________________________\n",
    "other stats:\n",
    "RMs:\n",
    "\tMean / Median: 6.24 / 6.18\n",
    "\tMin - Max (Std.Dev): 3.56 - 8.40 (0.64)\n",
    "LSTATs:\n",
    "\tMean / Median: 12.94 / 11.69\n",
    "\tMin - Max (Std.Dev): 1.98 - 37.97 (7.07)\n",
    "PTRATIOs:\n",
    "\tMean / Median: 18.52 / 19.10\n",
    "\tMin - Max (Std.Dev): 12.60 - 22.00 (2.11)\n",
    "```\n",
    "Here are my comments for each client given everything we have seen and learned so far (including the basics min/max/avg/med/std stats above:\n",
    "\n",
    "*Client 1: @ $420,286.36*\n",
    "\n",
    "Prediction seems reasonable. It falls around the middle of the price range for houses in the data set. The 3 house paramters are very close their overall averages from the data set. \n",
    "\n",
    "*Client 2: @ $225,697.50*\n",
    "\n",
    "The predicted price seems to take a big hit (almost 2x) compared to Client 1 just because the house is located in clearly less favorable neighborhood. Also, looking at it from slightly higher point of view: what house with 4 rooms in Boston would cost just $225k these days? I don't think you can buy a studio for that price these days :) So No, I am very skeptical about these predictions.\n",
    "\n",
    "*Client 3: @ $896,962.50*\n",
    "\n",
    "Predicted price seems well scaled compared to the averages of prices vs the what we know about averages of the feature variables and this house. It is only ~100k away from the max of the data set but that seems justified: number of rooms is very close to the top of the range, precentage working class is very low (not the rock bottom though) and student / teacher ration is close to the lowest in the data set. I can see how this house would not be more expenseive than some other house in the data set but still - very close to it. \n"
   ]
  },
  {
   "cell_type": "markdown",
   "metadata": {},
   "source": [
    "### Sensitivity\n",
    "An optimal model is not necessarily a robust model. Sometimes, a model is either too complex or too simple to sufficiently generalize to new data. Sometimes, a model could use a learning algorithm that is not appropriate for the structure of the data given. Other times, the data itself could be too noisy or contain too few samples to allow a model to adequately capture the target variable — i.e., the model is underfitted. \n",
    "\n",
    "**Run the code cell below to run the `fit_model` function ten times with different training and testing sets to see how the prediction for a specific client changes with respect to the data it's trained on.**"
   ]
  },
  {
   "cell_type": "code",
   "execution_count": 40,
   "metadata": {},
   "outputs": [
    {
     "name": "stdout",
     "output_type": "stream",
     "text": [
      "Trial 1: $391,183.33\n",
      "Trial 2: $424,935.00\n",
      "Trial 3: $415,800.00\n",
      "Trial 4: $420,622.22\n",
      "Trial 5: $413,334.78\n",
      "Trial 6: $411,931.58\n",
      "Trial 7: $399,663.16\n",
      "Trial 8: $407,232.00\n",
      "Trial 9: $351,577.61\n",
      "Trial 10: $413,700.00\n",
      "\n",
      "Range in prices: $73,357.39\n"
     ]
    }
   ],
   "source": [
    "vs.PredictTrials(features, prices, fit_model, client_data)"
   ]
  },
  {
   "cell_type": "markdown",
   "metadata": {},
   "source": [
    "### Question 11 - Applicability\n",
    "\n",
    "* In a few sentences, discuss whether the constructed model should or should not be used in a real-world setting.  \n",
    "\n",
    "**Hint:** Take a look at the range in prices as calculated in the code snippet above. Some questions to answering:\n",
    "- How relevant today is data that was collected from 1978? How important is inflation?\n",
    "- Are the features present in the data sufficient to describe a home? Do you think factors like quality of apppliances in the home, square feet of the plot area, presence of pool or not etc should factor in?\n",
    "- Is the model robust enough to make consistent predictions?\n",
    "- Would data collected in an urban city like Boston be applicable in a rural city?\n",
    "- Is it fair to judge the price of an individual home based on the characteristics of the entire neighborhood?"
   ]
  },
  {
   "cell_type": "markdown",
   "metadata": {},
   "source": [
    "**Answer: **\n",
    "\n",
    "> How relevant today is data that was collected from 1978? How important is inflation?\n",
    "\n",
    "I don't think it would be very relevant. I would not use this data to try to price my own house accurately. I would try to use latest data from past year or two (not fourty). It is possible that compared to today, 40 years ago people cared about education more than they did about number of rooms for example .. that would skew our model. Also, general inflation metric is market / US average. Certain sectors of the economy see higher or lower inflation (or even deflation) rates. I would not use general US inflation rates to scale what those houses are worth today. In short, I would want to use fresh set of market data. \n",
    "\n",
    "> Are the features present in the data sufficient to describe a home? Do you think factors like quality of apppliances in the home, square feet of the plot area, presence of pool or not etc should factor in?\n",
    "\n",
    "No, the model is not sufficient. Yes, all those other things should be things we look at from data science point of view. There is a class of algorithms that aims at feautre selection based on their correlations, variance, etc. We are using a very very simple model here. In the real world, even the price of the house next door impacts the price of the house in question. \n",
    "\n",
    "> Is the model robust enough to make consistent predictions?\n",
    "\n",
    "No - the predicted house values vary too widely (by ~$70k). That does not seem like small enough margin of error / chance. \n",
    "\n",
    "The average prediction for the first house (using the 10 trials) is about 404k with min of about 351k and max of about 420k. Based on my own experience selling a house, I would say that if my agent told me I can hope to sell it somewhere in that range, I would not be very happy with his/her service. The range seems a bit too broad for my personal liking. It could possibly inform a strategy (like \"lets put the house on the market at the top of that range knowing we will have to come down likely $35k but could be more or could be less\"). But that's just eyeballing what the house might sell for in a wide range of numbers. \n",
    "\n",
    "As far actually being able to predict the prices the model is not very *accurate*. \n",
    "\n",
    "> Would data collected in an urban city like Boston be applicable in a rural city?\n",
    "\n",
    "No :) For one just because a house is in a city would raise its price compared to the rural area. The model could be found to inflate the prices by as much as 2x!\n",
    "\n",
    "> Is it fair to judge the price of an individual home based on the characteristics of the entire neighborhood?\n",
    "\n",
    "Not sure what you mean by \"fair\". Yes, some characteristics of the neighborhood (including average price of other houses or the sizes of their lots) will influence the price of a given house. Crime rate in the neighborhood is often taken into account for example. Ideally we would collect as much good (low noise ratio) information as possible about everything we can think of that affects living and decide which variables are the most important. Again, there are methodologies (I hope to learn about in this course) that would help us select which features or their combinations actually matter."
   ]
  },
  {
   "cell_type": "markdown",
   "metadata": {},
   "source": [
    "> **Note**: Once you have completed all of the code implementations and successfully answered each question above, you may finalize your work by exporting the iPython Notebook as an HTML document. You can do this by using the menu above and navigating to  \n",
    "**File -> Download as -> HTML (.html)**. Include the finished document along with this notebook as your submission."
   ]
  }
 ],
 "metadata": {
  "anaconda-cloud": {},
  "kernelspec": {
   "display_name": "Python 2",
   "language": "python",
   "name": "python2"
  },
  "language_info": {
   "codemirror_mode": {
    "name": "ipython",
    "version": 2
   },
   "file_extension": ".py",
   "mimetype": "text/x-python",
   "name": "python",
   "nbconvert_exporter": "python",
   "pygments_lexer": "ipython2",
   "version": "2.7.14"
  }
 },
 "nbformat": 4,
 "nbformat_minor": 1
}
